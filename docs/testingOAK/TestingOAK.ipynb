{
 "cells": [
  {
   "cell_type": "code",
   "execution_count": 1,
   "id": "c3dc61c4-9657-457a-b6dc-2117aabc3819",
   "metadata": {},
   "outputs": [],
   "source": [
    "import jax\n",
    "# Enable Float64 for more stable matrix inversions.\n",
    "jax.config.update(\"jax_enable_x64\", True)\n",
    "\n",
    "from dataclasses import dataclass\n",
    "import warnings\n",
    "from typing import List, Union\n",
    "import pandas as pd\n",
    "import cola\n",
    "\n",
    "import jax.numpy as jnp\n",
    "import jax.random as jr\n",
    "from jaxtyping import (\n",
    "    Array,\n",
    "    Float,\n",
    "    install_import_hook,\n",
    "    Num,\n",
    ")\n",
    "import tensorflow_probability.substrates.jax.bijectors as tfb\n",
    "\n",
    "with install_import_hook(\"gpjax\", \"beartype.beartype\"):\n",
    "    import gpjax as gpx\n",
    "from gpjax.typing import (\n",
    "    Array,\n",
    "    ScalarFloat,\n",
    ")\n",
    "from gpjax.distributions import GaussianDistribution\n",
    "from gpjax.kernels import AdditiveKernel\n",
    "\n",
    "import matplotlib.pyplot as plt\n",
    "from matplotlib import rcParams\n",
    "# plt.style.use(\n",
    "#     \"https://raw.githubusercontent.com/JaxGaussianProcesses/GPJax/main/docs/examples/gpjax.mplstyle\"\n",
    "# )\n",
    "# colors = rcParams[\"axes.prop_cycle\"].by_key()[\"color\"]\n",
    "import matplotlib as mpl\n",
    "mpl.rcParams.update(mpl.rcParamsDefault)\n",
    "\n",
    "from sklearn.preprocessing import StandardScaler\n",
    "from sklearn.model_selection import train_test_split\n",
    "from sklearn.metrics import (\n",
    "    mean_squared_error,\n",
    "    r2_score,\n",
    ")\n",
    "cols = mpl.rcParams[\"axes.prop_cycle\"].by_key()[\"color\"]\n",
    "mpl.rcParams.update(mpl.rcParamsDefault)\n",
    "\n",
    "#imports AdditiveConjugatePosterior\n",
    "# from OAK import AdditiveConjugatePosterior\n",
    "\n",
    "from pprint import pprint\n",
    "import numpy as np\n",
    "def calculate_nlpd(predictive_mean, predictive_stddev, actual_values):\n",
    "    variance = predictive_stddev ** 2\n",
    "    nlpd_sum = 0.5 * np.log(2 * np.pi * variance) + ((predictive_mean - actual_values) ** 2) / (2 * variance)\n",
    "    total_nlpd = np.sum(nlpd_sum)\n",
    "    return total_nlpd"
   ]
  },
  {
   "cell_type": "markdown",
   "id": "2446de73",
   "metadata": {},
   "source": [
    "## This is where I shall add in the dataset\n",
    "\n",
    "This can be changed according to which data is useful and can be found in GPJAX/docs/examples/datasets\n",
    "\n"
   ]
  },
  {
   "cell_type": "code",
   "execution_count": 2,
   "id": "06f6abc5",
   "metadata": {},
   "outputs": [
    {
     "name": "stdout",
     "output_type": "stream",
     "text": [
      "(45, 2) (5, 2) (45, 1) (5, 1)\n"
     ]
    }
   ],
   "source": [
    "# dataset_path = \"/home/sharmakd/python_dev/GPJax/docs/examples/datasets/real_estaate_evaluation/Real estate valuation data set.csv\"\n",
    "# mydata = pd.read_csv(dataset_path, sep=',')\n",
    "# mydata.columns = ['Cement', 'BlastFurnaceSlag', 'FlyAsh', 'Water', 'Superplasticizer', 'CoarseAggregate', 'FineAggregate', 'Age', 'Strength']\n",
    "\n",
    "# mydata = mydata[:100]\n",
    "# y = mydata['Y house price of unit area']\n",
    "# X = mydata.drop(columns=['Y house price of unit area', 'No'])\n",
    "# X = mydata[['Cement', 'BlastFurnaceSlag', 'FlyAsh', 'Water', 'Superplasticizer']]\n",
    "\n",
    "def g(x):\n",
    "    return x\n",
    "\n",
    "def h(x):\n",
    "    return x\n",
    "\n",
    "def f(x):\n",
    "    return g(x[:, 0:1]) + h(x[:, 1:2]) #+ x[:, 2:3]\n",
    "\n",
    "\n",
    "\n",
    "n, noise = 50, 0.001\n",
    "key = jax.random.PRNGKey(np.random.randint(50))  # Replace 12345 with any desired seed value\n",
    "X = jr.normal(key, (n, 2))\n",
    "y = f(X) + jr.normal(key, (n, 1)) * noise\n",
    "\n",
    "#Select Data wanted\n",
    "X = jnp.array(X)\n",
    "# y = jnp.array(y).reshape(-1, 1) \n",
    "D = gpx.Dataset(X, y)\n",
    "feature_dimension = X.shape[1]\n",
    "\n",
    "# Split the data into training and test sets\n",
    "Xtr, Xte, ytr, yte = train_test_split(X, y, test_size=0.1, random_state=42)\n",
    "print(Xtr.shape, Xte.shape, ytr.shape, yte.shape)"
   ]
  },
  {
   "cell_type": "code",
   "execution_count": 3,
   "id": "297c1db9",
   "metadata": {},
   "outputs": [],
   "source": [
    "# prepare some plotting utilities\n",
    "NumPoints = 20\n",
    "min, max = -4, 4\n",
    "\n",
    "#Need to implement general nd mesh grid and 2d plot points to estimate points\n",
    "# x1_plot, x2_plot, x3_plot = jnp.meshgrid(jnp.linspace(min,max,NumPoints), jnp.linspace(min,max,NumPoints),jnp.linspace(min,max,NumPoints))\n",
    "# xplot2d = jnp.stack([x1_plot.reshape(-1), x2_plot.reshape(-1), x3_plot.reshape(-1)]).T # array of points to test on  make the 2 feature dimension\n",
    "# xplot1d = jnp.stack([jnp.linspace(-min,max,NumPoints) for _ in range(feature_dimension)]).T # [NumPoints, feature dimension]\n",
    "# print(xplot2d[0:10])\n",
    "\n",
    "def mesh2d(active_dimensions: list[int] = [], min = min, max = max, NumPoints = NumPoints):\n",
    "    if len(active_dimensions) not in [1,2]:\n",
    "        raise ValueError(\"Only 1 or 2 active dimensions are supported\")\n",
    "    xn_plot = []\n",
    "    for i in range(feature_dimension):\n",
    "        if i in active_dimensions:\n",
    "            xn_plot += [jnp.linspace(min, max, NumPoints)]\n",
    "        else:\n",
    "            xn_plot += [jnp.array([0])]\n",
    "    print(xn_plot)\n",
    "    xn_meshgrid = jnp.meshgrid(*xn_plot)\n",
    "    xplot2d = jnp.stack([x.reshape(-1) for x in xn_meshgrid], axis=-1)\n",
    "    return xplot2d\n",
    "\n",
    "# xn_plot = [jnp.linspace(min, max, NumPoints) for _ in range(feature_dimension)]\n",
    "# xn_meshgrid = jnp.meshgrid(*xn_plot)\n",
    "# xplot2d = jnp.stack([x.reshape(-1) for x in xn_meshgrid], axis=-1)\n",
    "\n",
    "xplot1d = jnp.stack([jnp.linspace(min, max, NumPoints) for _ in range(feature_dimension)]).T\n",
    "x1_plot, x2_plot = jnp.meshgrid(jnp.linspace(min, max, NumPoints), jnp.linspace(min, max, NumPoints))\n",
    "\n",
    "def contour_plot(Z, ax):\n",
    "    Z = Z.reshape(NumPoints, NumPoints)\n",
    "    cp = ax.contourf(x1_plot, x2_plot, Z)\n",
    "    ax.scatter(X[:,0], X[:,1], c=\"red\", marker=\"x\", label=\"data\")\n",
    "    ax.set_xlim(min,max)\n",
    "    ax.set_ylim(min,max)\n",
    "\n"
   ]
  },
  {
   "cell_type": "code",
   "execution_count": 4,
   "id": "7eba8d4e",
   "metadata": {},
   "outputs": [
    {
     "name": "stdout",
     "output_type": "stream",
     "text": [
      "[Array([-4.        , -3.57894737, -3.15789474, -2.73684211, -2.31578947,\n",
      "       -1.89473684, -1.47368421, -1.05263158, -0.63157895, -0.21052632,\n",
      "        0.21052632,  0.63157895,  1.05263158,  1.47368421,  1.89473684,\n",
      "        2.31578947,  2.73684211,  3.15789474,  3.57894737,  4.        ],      dtype=float64), Array([-4.        , -3.57894737, -3.15789474, -2.73684211, -2.31578947,\n",
      "       -1.89473684, -1.47368421, -1.05263158, -0.63157895, -0.21052632,\n",
      "        0.21052632,  0.63157895,  1.05263158,  1.47368421,  1.89473684,\n",
      "        2.31578947,  2.73684211,  3.15789474,  3.57894737,  4.        ],      dtype=float64)]\n"
     ]
    },
    {
     "data": {
      "image/png": "[encoded data removed]",
      "text/plain": [
       "<Figure size 640x480 with 1 Axes>"
      ]
     },
     "metadata": {},
     "output_type": "display_data"
    }
   ],
   "source": [
    "fig, ax = plt.subplots()\n",
    "xplot2d = mesh2d(active_dimensions=[0,1])\n",
    "contour_plot(f(xplot2d), ax)\n",
    "plt.show()"
   ]
  },
  {
   "cell_type": "markdown",
   "id": "327a9080",
   "metadata": {},
   "source": [
    "## This step is to test datasets to see if they need scaling or transforming"
   ]
  },
  {
   "cell_type": "code",
   "execution_count": 5,
   "id": "5926e8fd",
   "metadata": {},
   "outputs": [],
   "source": [
    "class AdditiveConjugatePosterior(gpx.gps.ConjugatePosterior):\n",
    "    r\"\"\"        \n",
    "    Build an additive posterior from an additive kernel and a Gaussian likelihood. We have included an\n",
    "    additional method to allow predictions for specific additive components, as specified by a\n",
    "    component_list, e.g. [0, 1] corresponds to the second order interaction between zeroth and first inputs.\n",
    "    \"\"\"\n",
    "\n",
    "    def __post__init__(self):\n",
    "        assert isinstance(self.prior.kernel, AdditiveKernel), \"AdditiveConjugatePosterior requires an AdditiveKernel\"\n",
    "\n",
    "    def predict_additive_component(\n",
    "        self,\n",
    "        test_inputs: Num[Array, \"N D\"],\n",
    "        train_data: gpx.Dataset,\n",
    "        component_list: List[List[int]]\n",
    "    ) -> GaussianDistribution:\n",
    "        r\"\"\"Get the posterior predictive distribution for a specific additive component.\"\"\"\n",
    "        specific_kernel = self.prior.kernel.get_specific_kernel(component_list)\n",
    "        return self.predict(test_inputs, train_data, kernel_with_test = specific_kernel)\n",
    "\n",
    "    def get_sobol_index(self, train_data: gpx.Dataset, component_list: List[int]) -> ScalarFloat:\n",
    "        \"\"\" Return the sobol index for the additive component corresponding to component_list. \"\"\"\n",
    "        component_posterior = self.predict_additive_component(train_data.X, train_data, component_list)\n",
    "        full_posterior= self.predict(train_data.X, train_data) # wasteful as only need means\n",
    "        return jnp.var(component_posterior.mean()) / jnp.var(full_posterior.mean())"
   ]
  },
  {
   "cell_type": "code",
   "execution_count": 6,
   "id": "02029c81",
   "metadata": {},
   "outputs": [],
   "source": [
    "x_scaler = StandardScaler().fit(Xtr)\n",
    "scaled_Xtr = x_scaler.transform(Xtr)\n",
    "scaled_Xte = x_scaler.transform(Xte)"
   ]
  },
  {
   "cell_type": "code",
   "execution_count": 7,
   "id": "3a67f83b",
   "metadata": {},
   "outputs": [
    {
     "name": "stdout",
     "output_type": "stream",
     "text": [
      "[[ 1.22573709 -0.31619499]\n",
      " [-1.57725558 -1.01169854]\n",
      " [-0.26584283 -0.89509639]\n",
      " [ 0.3564924   0.85589813]\n",
      " [-0.44276525  2.28429243]\n",
      " [ 1.4061205  -1.58675139]\n",
      " [-0.24131439  1.18086089]\n",
      " [-0.58461412  0.52807347]\n",
      " [ 0.27793319 -1.93460888]\n",
      " [-0.43669901 -0.54349902]\n",
      " [ 0.24727888  0.05110157]\n",
      " [ 1.63902102 -0.20137001]\n",
      " [-0.87913903  2.0978896 ]\n",
      " [-1.09746763 -0.51708177]\n",
      " [ 0.61850191  0.04169611]]\n"
     ]
    }
   ],
   "source": [
    "print(scaled_Xtr[:15])"
   ]
  },
  {
   "cell_type": "code",
   "execution_count": 8,
   "id": "189c43f6",
   "metadata": {},
   "outputs": [],
   "source": [
    "y_scaler = StandardScaler().fit(ytr)\n",
    "scaled_ytr = y_scaler.transform(ytr)\n",
    "scaled_yte = y_scaler.transform(yte)"
   ]
  },
  {
   "cell_type": "code",
   "execution_count": 9,
   "id": "b458d1ac",
   "metadata": {},
   "outputs": [
    {
     "data": {
      "image/png": "[encoded data removed]",
      "text/plain": [
       "<Figure size 900x250 with 2 Axes>"
      ]
     },
     "metadata": {},
     "output_type": "display_data"
    }
   ],
   "source": [
    "fig, ax = plt.subplots(ncols=2, figsize=(9, 2.5))\n",
    "ax[0].hist(ytr.reshape(1, -1), bins=30, color=cols[1])\n",
    "ax[0].set_title(\"y\")\n",
    "ax[1].hist(scaled_ytr, bins=30, color=cols[1])\n",
    "ax[1].set_title(\"scaled y\")\n",
    "ax[1].set_xlim(-4, 4)\n",
    "plt.show()"
   ]
  },
  {
   "cell_type": "markdown",
   "id": "b119bd7a",
   "metadata": {},
   "source": [
    "This looks good! \n",
    "\n",
    "## Work on the Posterior Now!"
   ]
  },
  {
   "cell_type": "markdown",
   "id": "2ebc095e",
   "metadata": {},
   "source": [
    "Now lets try on the dataset. we fit additive models of `max_interaction_depth` 0 (i.e. a constant model), 1 and 2."
   ]
  },
  {
   "cell_type": "markdown",
   "id": "e1a49190",
   "metadata": {},
   "source": [
    "We can also look at the individual additive components learned by the second order model"
   ]
  },
  {
   "cell_type": "code",
   "execution_count": 10,
   "id": "def6bb38",
   "metadata": {},
   "outputs": [],
   "source": [
    "def plot_posterior_with_components2d(opt_posterior, active_dimensions: list[int] = [0, 1], axis_to_plot = 0):\n",
    "        if len(active_dimensions) not in [1,2]:\n",
    "            raise ValueError(\"Only 1 or 2 active dimensions are supported\")\n",
    "        contour_plot(opt_posterior.predict_additive_component(\n",
    "                mesh2d(active_dimensions=active_dimensions),\n",
    "                D,\n",
    "                [0, 1]\n",
    "        ).mean(), ax[axis_to_plot])\n"
   ]
  },
  {
   "cell_type": "code",
   "execution_count": 11,
   "id": "ef940313",
   "metadata": {},
   "outputs": [],
   "source": [
    "import os"
   ]
  },
  {
   "cell_type": "code",
   "execution_count": 13,
   "id": "5c46ea1a",
   "metadata": {},
   "outputs": [
    {
     "data": {
      "image/png": "[encoded data removed]",
      "text/plain": [
       "<Figure size 600x1200 with 2 Axes>"
      ]
     },
     "metadata": {},
     "output_type": "display_data"
    }
   ],
   "source": [
    "D = gpx.Dataset(X=scaled_Xtr, y=scaled_ytr)\n",
    "# noise = 0.01\n",
    "meanf = gpx.mean_functions.Zero()\n",
    "base_kernels = [gpx.kernels.RBF(active_dims=[i], lengthscale=jnp.array([1.0])) for i in range(feature_dimension)]\n",
    "likelihood = gpx.likelihoods.Gaussian(num_datapoints=D.n, obs_stddev=noise)\n",
    "obj = gpx.objectives.ConjugateLOOCV(negative=True)\n",
    "maximum_interaction_depth = 2\n",
    "kernel = AdditiveKernel(\n",
    "    kernels=base_kernels,\n",
    "    interaction_variances=jnp.array([1.0]*(maximum_interaction_depth+1)) * jnp.var(D.y), \n",
    "    max_interaction_depth=maximum_interaction_depth, \n",
    "    )\n",
    "prior = gpx.gps.Prior(mean_function=meanf, kernel=kernel)\n",
    "posterior = AdditiveConjugatePosterior(prior =prior, likelihood=likelihood)\n",
    "opt_posterior, history = gpx.fit_scipy(model=posterior, objective=obj, train_data=D, verbose=False)\n",
    "\n",
    "# plotting util\n",
    "def plot_posterior_with_components(opt_posterior, sobol=False):\n",
    "    fig, ax = plt.subplots(ncols=1, nrows=feature_dimension, figsize=(6, 6 * feature_dimension))\n",
    "    for i in range(feature_dimension): # make 1d plots of 1d interactions\n",
    "        posterior = opt_posterior.predict_additive_component(xplot1d, D, [i])\n",
    "        mean, std = posterior.mean(), posterior.stddev()\n",
    "        ax[i].plot(xplot1d[:,i], mean, color=\"blue\", label=\"additive\")\n",
    "        ax[i].fill_between(xplot1d[:,i], mean - 2 * std,mean + 2 * std, alpha=0.2, color=\"blue\")\n",
    "        ax[i].set_title(f\"$f_{i+1}(x_{i+1})$\" if not sobol else f\"$f_{i+1}(x_{i+1})$ has sobol ${opt_posterior.get_sobol_index(D, [i]):.2f}$\")\n",
    "        truth = g(xplot1d[:,i]) if i==0 else h(xplot1d[:,i])\n",
    "        ax[i].plot(xplot1d[:,i], truth, color=\"black\", label=\"truth\")\n",
    "        ax[i].legend()\n",
    "        ax[i].scatter(scaled_Xtr[:,i], scaled_ytr, c=\"red\", marker=\"x\", label=\"data\")\n",
    "        # print(i)\n",
    "    # pprint(opt_posterior.__dict__)\n",
    "\n",
    "    # plot 2d interaction\n",
    "    # ax[2].set_title(f\"$f_3(x_1,x_2)$\" if not sobol else f\"$f_3(x_1,x_2)$ has sobol ${opt_posterior.get_sobol_index(D, [0, 1]):.2f}$\")\n",
    "    # contour_plot(opt_posterior.predict_additive_component(xplot2d, D, [0, 1]).mean(), ax[2])\n",
    "\n",
    "# plot learned additive components\n",
    "plot_posterior_with_components(opt_posterior)\n",
    "plt.show()"
   ]
  },
  {
   "cell_type": "markdown",
   "id": "08195288",
   "metadata": {},
   "source": [
    "Although the mean predictions are reasonably close to the true values of the additive components $x_1^2$ and $-2x_2$ there is a large ammount of uncertainty. [Lu et al. (2022)](https://arxiv.org/pdf/2206.09861.pdf) argue that the high uncertainty is a consequence of the lack of exisiting of an unique additive decomposition. For example\n",
    "$$\n",
    "f(x_1,x_2) = (f(x_1) + \\Delta_1(x_1)) + (f(x_2) + \\Delta_2(x_2)) + (f_{12}(x_1, x_2) - \\Delta_1(x_1) - \\Delta_2(x_2))\n",
    "$$\n",
    "is a valid additive decomposition for any functions $\\Delta_1(x_1)$ and $\\Delta_2(x_2)$. "
   ]
  },
  {
   "cell_type": "markdown",
   "id": "edca5938",
   "metadata": {},
   "source": [
    "## Roll on the \"Orthogonal Additive Kernel\"\n",
    "\n",
    "To mitigate the problem of identifiability, [Lu et al. (2022)](https://arxiv.org/pdf/2206.09861.pdf) apply an additional constraint to each base kernel so that the integral of each function $\\{f_i\\}_{i=1}^D$ (with respect to some chosen measure) is zero, thus resulting in a unique decomposition. When $f$ has a non-zero mean, a constant offset is included.\n",
    "\n",
    "More precisely, we \"orthogonalise\"  base kernel $i$ by conditioning on the event $\\int f_i(x_i)p(x_i)dx_i = 0$. Fortunateky, conditioning a GP on a linear operator also results in a GP and so (for certain base measures $p(x_i)$) our model remains tractible. In our implentation below, we assume a unit Gaussian input measure, so you may achieve better results if you transform your inputs to match."
   ]
  },
  {
   "cell_type": "code",
   "execution_count": null,
   "id": "09a94403",
   "metadata": {},
   "outputs": [],
   "source": [
    "@dataclass()\n",
    "class OrthogonalRBF(gpx.kernels.AbstractKernel):\n",
    "    r\"\"\"todo only for unit gaussian input measure and zero mean.\"\"\"\n",
    "    name: str = \"OrthogonalRBF\"\n",
    "    lengthscale: Union[ScalarFloat, Float[Array, \" D\"]] = gpx.param_field(\n",
    "        jnp.array(1.0), bijector=tfb.Softplus()\n",
    "    )\n",
    "\n",
    "    def __post_init__(self):\n",
    "        warnings.warn(\"This kernel is only valid for unit gaussian input measures and zero mean functions.\")\n",
    "\n",
    "    def __call__(self, x: Num[Array, \" D\"], y: Num[Array, \" D\"]) -> ScalarFloat:\n",
    "        r\"\"\"Compute an orthogonal RBF kernel between a pair of arrays.\"\"\"\n",
    "        x = self.slice_input(x) # [d]\n",
    "        y = self.slice_input(y) # [d]\n",
    "        ks = jnp.exp(-0.5 * ((x - y) / self.lengthscale) ** 2) # [d]\n",
    "        ks -=  self._cov_x_s(x) * self._cov_x_s(y) / self._var_s() # [d]\n",
    "        return jnp.prod(ks)\n",
    "    \n",
    "    def _cov_x_s(self,x):\n",
    "        l2 = self.lengthscale ** 2\n",
    "        return jnp.sqrt(l2 / (l2 + 1.0)) * jnp.exp(-0.5 * (x ** 2) / (l2 + 1.0)) # [d]\n",
    "        \n",
    "    def _var_s(self):\n",
    "        return  jnp.sqrt(self.lengthscale ** 2 / (self.lengthscale ** 2 + 2.0)) # [d]\n"
   ]
  },
  {
   "cell_type": "markdown",
   "id": "4d5716bb",
   "metadata": {},
   "source": [
    "Now, lets use this new kernel to recreate the plots from above."
   ]
  },
  {
   "cell_type": "code",
   "execution_count": null,
   "id": "e1016eaf",
   "metadata": {},
   "outputs": [],
   "source": [
    "# base_kernels = [OrthogonalRBF(active_dims=[0], lengthscale=jnp.array([1.0])), OrthogonalRBF(active_dims=[1], lengthscale=jnp.array([1.0]))]\n",
    "\n",
    "# fig, ax = plt.subplots(nrows=1, ncols=3, figsize=(21,5))\n",
    "# for i in [0,1,2]:\n",
    "    \n",
    "#     kernel = AdditiveKernel(\n",
    "#         kernels=base_kernels,\n",
    "#         interaction_variances=jnp.array([1.0]*(i+1)) * jnp.var(D.y), \n",
    "#         max_interaction_depth=i, \n",
    "#         )\n",
    "\n",
    "#     prior = gpx.gps.Prior(mean_function=meanf, kernel=kernel)\n",
    "#     posterior = AdditiveConjugatePosterior(prior =prior, likelihood=likelihood)\n",
    "#     opt_posterior, history = gpx.fit_scipy(model=posterior, objective=obj, train_data=D, verbose=False)\n",
    "#     contour_plot(opt_posterior.predict(xplot2d, D).mean(), ax[i])\n",
    "#     ax[i].set_title(f\"max interaction={i}\")\n",
    "\n",
    "# # plot additive components\n",
    "# plot_posterior_with_components(opt_posterior, sobol=True)\n",
    "# plt.show()"
   ]
  },
  {
   "cell_type": "markdown",
   "id": "48f5cd2b",
   "metadata": {},
   "source": [
    "By \"orthogonalising\" our kernel and so providing an identifiable decomposition, we have greatly reduced the uncertainty of our additve model and have much tighter estimates of the univariate additive components. Note that the constant gap between the truth and our estimated $f_0$ is expected and is accounted for by the not-plotted constant interaction."
   ]
  }
 ],
 "metadata": {
  "kernelspec": {
   "display_name": "gpjax",
   "language": "python",
   "name": "python3"
  },
  "language_info": {
   "codemirror_mode": {
    "name": "ipython",
    "version": 3
   },
   "file_extension": ".py",
   "mimetype": "text/x-python",
   "name": "python",
   "nbconvert_exporter": "python",
   "pygments_lexer": "ipython3",
   "version": "3.10.14"
  }
 },
 "nbformat": 4,
 "nbformat_minor": 5
}
