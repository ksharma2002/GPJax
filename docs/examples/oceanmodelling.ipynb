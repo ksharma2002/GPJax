{
 "cells": [
  {
   "cell_type": "markdown",
   "id": "4ab7bece",
   "metadata": {
    "lines_to_next_cell": 0
   },
   "source": [
    "# Gaussian Processes for Vector Fields and Ocean Current Modelling\n",
    "\n",
    "In this notebook, we use Gaussian processes to learn vector-valued functions. We will be\n",
    "recreating the results by [Berlinghieri et al. (2023)](https://arxiv.org/pdf/2302.10364.pdf) by an\n",
    "application to real-world ocean surface velocity data, collected via surface drifters.\n",
    "\n",
    "Surface drifters are measurement devices that measure the dynamics and circulation patterns of the world's oceans. Studying and predicting ocean currents are important to climate research, for example, forecasting and predicting oil spills, oceanographic surveying of eddies and upwelling, or providing information on the distribution of biomass in ecosystems. We will be using the [Gulf Drifters Open dataset](https://zenodo.org/record/4421585), which contains all publicly available surface drifter trajectories from the Gulf of Mexico spanning 28 years."
   ]
  },
  {
   "cell_type": "code",
   "execution_count": null,
   "id": "fa33924a",
   "metadata": {
    "lines_to_next_cell": 2
   },
   "outputs": [],
   "source": [
    "from jax import config\n",
    "\n",
    "config.update(\"jax_enable_x64\", True)\n",
    "from dataclasses import dataclass\n",
    "\n",
    "from jax import hessian\n",
    "from jax import config\n",
    "import jax.numpy as jnp\n",
    "import jax.random as jr\n",
    "from jaxtyping import (\n",
    "    Array,\n",
    "    Float,\n",
    "    install_import_hook,\n",
    ")\n",
    "from matplotlib import rcParams\n",
    "import matplotlib.pyplot as plt\n",
    "import pandas as pd\n",
    "import tensorflow_probability as tfp\n",
    "\n",
    "with install_import_hook(\"gpjax\", \"beartype.beartype\"):\n",
    "    import gpjax as gpx\n",
    "\n",
    "# Enable Float64 for more stable matrix inversions.\n",
    "key = jr.PRNGKey(123)\n",
    "plt.style.use(\n",
    "    \"https://raw.githubusercontent.com/JaxGaussianProcesses/GPJax/main/docs/examples/gpjax.mplstyle\"\n",
    ")\n",
    "colors = rcParams[\"axes.prop_cycle\"].by_key()[\"color\"]"
   ]
  },
  {
   "cell_type": "markdown",
   "id": "b34cd184",
   "metadata": {
    "lines_to_next_cell": 2
   },
   "source": [
    "## Data loading and preprocessing\n",
    "The real dataset has been binned into an $N=34\\times16$ grid, equally spaced over the longitude-latitude interval $[-90.8,-83.8] \\times [24.0,27.5]$. Each bin has a size $\\approx 0.21\\times0.21$, and contains the average velocity across all measurements that fall inside it.\n",
    "\n",
    "We will call this binned ocean data the ground truth, and label it with the vector field\n",
    "$$\n",
    "\\mathbf{F} \\equiv \\mathbf{F}(\\mathbf{x}),\n",
    "$$\n",
    "where $\\mathbf{x} = (x^{(0)}$,$x^{(1)})^\\text{T}$, with a vector basis in the standard Cartesian directions (dimensions will be indicated by superscripts).\n",
    "\n",
    "We shall label the ground truth $D_0=\\left\\{ \\left(\\mathbf{x}_{0,i} , \\mathbf{y}_{0,i} \\right)\\right\\}_{i=1}^N$, where $\\mathbf{y}_{0,i}$ is the 2-dimensional velocity vector at the $i$-th location, $\\mathbf{x}_{0,i}$. The training dataset contains simulated measurements from ocean drifters $D_T=\\left\\{\\left(\\mathbf{x}_{T,i}, \\mathbf{y}_{T,i} \\right)\\right\\}_{i=1}^{N_T}$, $N_T = 20$ in this case (the subscripts indicate the ground truth and the simulated measurements respectively).\n"
   ]
  },
  {
   "cell_type": "code",
   "execution_count": null,
   "id": "3dfb25f4",
   "metadata": {},
   "outputs": [],
   "source": [
    "# function to place data from csv into correct array shape\n",
    "def prepare_data(df):\n",
    "    pos = jnp.array([df[\"lon\"], df[\"lat\"]])\n",
    "    vel = jnp.array([df[\"ubar\"], df[\"vbar\"]])\n",
    "    # extract shape stored as 'metadata' in the test data\n",
    "    try:\n",
    "        shape = (int(df[\"shape\"][1]), int(df[\"shape\"][0]))  # shape = (34,16)\n",
    "        return pos, vel, shape\n",
    "    except KeyError:\n",
    "        return pos, vel\n",
    "\n",
    "\n",
    "# loading in data\n",
    "\n",
    "gulf_data_train = pd.read_csv(\n",
    "    \"https://raw.githubusercontent.com/JaxGaussianProcesses/static/main/data/gulfdata_train.csv\"\n",
    ")\n",
    "gulf_data_test = pd.read_csv(\n",
    "    \"https://raw.githubusercontent.com/JaxGaussianProcesses/static/main/data/gulfdata_test.csv\"\n",
    ")\n",
    "\n",
    "\n",
    "pos_test, vel_test, shape = prepare_data(gulf_data_test)\n",
    "pos_train, vel_train = prepare_data(gulf_data_train)\n",
    "\n",
    "fig, ax = plt.subplots(1, 1, figsize=(6, 3))\n",
    "ax.quiver(\n",
    "    pos_test[0],\n",
    "    pos_test[1],\n",
    "    vel_test[0],\n",
    "    vel_test[1],\n",
    "    color=colors[0],\n",
    "    label=\"Ocean Current\",\n",
    "    angles=\"xy\",\n",
    "    scale=10,\n",
    ")\n",
    "ax.quiver(\n",
    "    pos_train[0],\n",
    "    pos_train[1],\n",
    "    vel_train[0],\n",
    "    vel_train[1],\n",
    "    color=colors[1],\n",
    "    alpha=0.7,\n",
    "    label=\"Drifter\",\n",
    "    angles=\"xy\",\n",
    "    scale=10,\n",
    ")\n",
    "\n",
    "ax.set(\n",
    "    xlabel=\"Longitude\",\n",
    "    ylabel=\"Latitude\",\n",
    ")\n",
    "ax.legend(\n",
    "    framealpha=0.0,\n",
    "    ncols=2,\n",
    "    fontsize=\"medium\",\n",
    "    bbox_to_anchor=(0.5, -0.3),\n",
    "    loc=\"lower center\",\n",
    ")\n",
    "plt.show()"
   ]
  },
  {
   "cell_type": "markdown",
   "id": "2549c80b",
   "metadata": {
    "lines_to_next_cell": 2
   },
   "source": [
    "## Problem Setting\n",
    "We aim to obtain estimates for $\\mathbf{F}$ at the set of points $\\left\\{ \\mathbf{x}_{0,i} \\right\\}_{i=1}^N$ using Gaussian processes, followed by a comparison of the latent model to the ground truth $D_0$. Note that $D_0$ is not passed into any functions used  by GPJax, and is only used to compare against the two GP models at the end of the notebook.\n",
    "\n",
    "Since $\\mathbf{F}$ is a vector-valued function, we require GPs that can directly learn vector-valued functions[<sup>1</sup>](#fn1). To implement this in GPJax, the problem can be changed to learn a scalar-valued function by 'massaging' the data into a  $2N\\times2N$ problem, such that each dimension of our GP is associated with a *component* of $\\mathbf{y}_{T,i}$.\n",
    "\n",
    "For a particular measurement $\\mathbf{y}$ (training or testing) at location $\\mathbf{x}$, the components $(y^{(0)}, y^{(1)})$ are described by the latent vector field $\\mathbf{F}$, such that\n",
    "\n",
    "$$\n",
    "\\mathbf{y} = \\mathbf{F}(\\mathbf{x}) = \\left(\\begin{array}{l}\n",
    "f^{(0)}\\left(\\mathbf{x}\\right) \\\\\n",
    "f^{(1)}\\left(\\mathbf{x}\\right)\n",
    "\\end{array}\\right),\n",
    "$$\n",
    "\n",
    "where each $f^{(z)}\\left(\\mathbf{x}\\right), z \\in \\{0,1\\}$ is a scalar-valued function.\n",
    "\n",
    "Now consider the scalar-valued function $g: \\mathbb{R}^2 \\times\\{0,1\\} \\rightarrow \\mathbb{R}$, such that\n",
    "\n",
    "$$\n",
    "g \\left(\\mathbf{x} , 0 \\right) = f^{(0)} ( \\mathbf{x} ), \\text{and } g \\left( \\mathbf{x}, 1 \\right)=f^{(1)}\\left(\\mathbf{x}\\right).\n",
    "$$\n",
    "\n",
    "We have increased the input dimension by 1, from the 2D $\\mathbf{x}$ to the 3D $\\mathbf{X} = \\left(\\mathbf{x}, 0\\right)$ or $\\mathbf{X} = \\left(\\mathbf{x}, 1\\right)$.\n",
    "\n",
    "By choosing the value of the third dimension, 0 or 1, we may now incorporate this\n",
    "information into the computation of the kernel.\n",
    "We therefore make new 3D datasets $D_{T,3D} = \\left\\{\\left( \\mathbf{X}_{T,i},\\mathbf{Y}_{T,i} \\right) \\right\\} _{i=0}^{2N_T}$ and $D_{0,3D} = \\left\\{\\left( \\mathbf{X}_{0,i},\\mathbf{Y}_{0,i} \\right) \\right\\} _{i=0}^{2N}$ that incorporates this new labelling, such that for each dataset (indicated by the subscript $D = 0$ or $D=T$),\n",
    "\n",
    "$$\n",
    "X_{D,i} = \\left( \\mathbf{x}_{D,i}, z \\right),\n",
    "$$\n",
    "and\n",
    "$$\n",
    "Y_{D,i} = y_{D,i}^{(z)},\n",
    "$$\n",
    "\n",
    "where $z = 0$ if $i$ is odd and $z=1$ if $i$ is even."
   ]
  },
  {
   "cell_type": "code",
   "execution_count": null,
   "id": "7edfc7f0",
   "metadata": {
    "lines_to_next_cell": 2
   },
   "outputs": [],
   "source": [
    "# Change vectors x -> X = (x,z), and vectors y -> Y = (y,z) via the artificial z label\n",
    "def label_position(data):\n",
    "    # introduce alternating z label\n",
    "    n_points = len(data[0])\n",
    "    label = jnp.tile(jnp.array([0.0, 1.0]), n_points)\n",
    "    return jnp.vstack((jnp.repeat(data, repeats=2, axis=1), label)).T\n",
    "\n",
    "\n",
    "# change vectors y -> Y by reshaping the velocity measurements\n",
    "def stack_velocity(data):\n",
    "    return data.T.flatten().reshape(-1, 1)\n",
    "\n",
    "\n",
    "def dataset_3d(pos, vel):\n",
    "    return gpx.Dataset(label_position(pos), stack_velocity(vel))\n",
    "\n",
    "\n",
    "# label and place the training data into a Dataset object to be used by GPJax\n",
    "dataset_train = dataset_3d(pos_train, vel_train)\n",
    "\n",
    "# we also require the testing data to be relabelled for later use, such that we can query the 2Nx2N GP at the test points\n",
    "dataset_ground_truth = dataset_3d(pos_test, vel_test)"
   ]
  },
  {
   "cell_type": "markdown",
   "id": "409dc8d0",
   "metadata": {
    "lines_to_next_cell": 2
   },
   "source": [
    "## Velocity (dimension) decomposition\n",
    "Having labelled the data, we are now in a position to use GPJax to learn the function $g$, and hence $\\mathbf{F}$. A naive approach to the problem is to apply a GP prior directly to the velocities of each dimension independently, which is called the *velocity* GP. For our prior, we choose an isotropic mean 0 over all dimensions of the GP, and a piecewise kernel that depends on the $z$ labels of the inputs, such that for two inputs $\\mathbf{X} = \\left( \\mathbf{x}, z \\right )$ and $\\mathbf{X}^\\prime = \\left( \\mathbf{x}^\\prime, z^\\prime \\right )$,\n",
    "\n",
    "$$\n",
    "k_{\\text{vel}} \\left(\\mathbf{X}, \\mathbf{X}^{\\prime}\\right)=\n",
    "\\begin{cases}k^{(z)}\\left(\\mathbf{x}, \\mathbf{x}^{\\prime}\\right) & \\text { if }\n",
    "z=z^{\\prime} \\\\ 0 & \\text { if } z \\neq z^{\\prime}, \\end{cases}\n",
    "$$\n",
    "\n",
    "where $k^{(z)}\\left(\\mathbf{x}, \\mathbf{x}^{\\prime}\\right)$ are the user chosen kernels for each dimension. What this means is that there are no correlations between the $x^{(0)}$ and $x^{(1)}$ dimensions for all choices $\\mathbf{X}$ and $\\mathbf{X}^{\\prime}$, since there are no off-diagonal elements in the Gram matrix populated by this choice.\n",
    "\n",
    "To implement this approach in GPJax, we define `VelocityKernel` in the following cell, following the steps outlined in the [custom kernels notebook](https://docs.jaxgaussianprocesses.com/examples/constructing_new_kernels/#custom-kernel). This modular implementation takes the choice of user kernels as its class attributes: `kernel0` and `kernel1`. We must additionally pass the argument `active_dims = [0,1]`, which is an attribute of the base class `AbstractKernel`, into the chosen kernels. This is necessary such that the subsequent likelihood optimisation does not optimise over the artificial label dimension.\n"
   ]
  },
  {
   "cell_type": "code",
   "execution_count": null,
   "id": "e844c327",
   "metadata": {
    "lines_to_next_cell": 2
   },
   "outputs": [],
   "source": [
    "@dataclass\n",
    "class VelocityKernel(gpx.kernels.AbstractKernel):\n",
    "    kernel0: gpx.kernels.AbstractKernel = gpx.kernels.RBF(active_dims=[0, 1])\n",
    "    kernel1: gpx.kernels.AbstractKernel = gpx.kernels.RBF(active_dims=[0, 1])\n",
    "\n",
    "    def __call__(\n",
    "        self, X: Float[Array, \"1 D\"], Xp: Float[Array, \"1 D\"]\n",
    "    ) -> Float[Array, \"1\"]:\n",
    "        # standard RBF-SE kernel is x and x' are on the same output, otherwise returns 0\n",
    "\n",
    "        z = jnp.array(X[2], dtype=int)\n",
    "        zp = jnp.array(Xp[2], dtype=int)\n",
    "\n",
    "        # achieve the correct value via 'switches' that are either 1 or 0\n",
    "        k0_switch = ((z + 1) % 2) * ((zp + 1) % 2)\n",
    "        k1_switch = z * zp\n",
    "\n",
    "        return k0_switch * self.kernel0(X, Xp) + k1_switch * self.kernel1(X, Xp)"
   ]
  },
  {
   "cell_type": "markdown",
   "id": "e5794886",
   "metadata": {
    "lines_to_next_cell": 2
   },
   "source": [
    "### GPJax implementation\n",
    "Next, we define the model in GPJax. The prior is defined using $k_{\\text{vel}}\\left(\\mathbf{X}, \\mathbf{X}^\\prime \\right)$ and 0 mean and 0 observation noise. We choose a Gaussian marginal log-likelihood (MLL).\n"
   ]
  },
  {
   "cell_type": "code",
   "execution_count": null,
   "id": "d2d4c439",
   "metadata": {
    "lines_to_next_cell": 2
   },
   "outputs": [],
   "source": [
    "def initialise_gp(kernel, mean, dataset):\n",
    "    prior = gpx.gps.Prior(mean_function=mean, kernel=kernel)\n",
    "    likelihood = gpx.likelihoods.Gaussian(\n",
    "        num_datapoints=dataset.n, obs_stddev=jnp.array([1.0e-3], dtype=jnp.float64)\n",
    "    )\n",
    "    posterior = prior * likelihood\n",
    "    return posterior\n",
    "\n",
    "\n",
    "# Define the velocity GP\n",
    "mean = gpx.mean_functions.Zero()\n",
    "kernel = VelocityKernel()\n",
    "velocity_posterior = initialise_gp(kernel, mean, dataset_train)"
   ]
  },
  {
   "cell_type": "markdown",
   "id": "cc9437a3",
   "metadata": {
    "lines_to_next_cell": 2
   },
   "source": [
    "With a model now defined, we can proceed to optimise the hyperparameters of our likelihood over $D_0$. This is done by minimising the MLL using `BFGS`. We also plot its value at each step to visually confirm that we have found the minimum. See the  [introduction to Gaussian Processes](https://docs.jaxgaussianprocesses.com/examples/intro_to_gps/) notebook for more information on optimising the MLL."
   ]
  },
  {
   "cell_type": "code",
   "execution_count": null,
   "id": "c49aab65",
   "metadata": {
    "lines_to_next_cell": 2
   },
   "outputs": [],
   "source": [
    "def optimise_mll(posterior, dataset, NIters=1000, key=key):\n",
    "    # define the MLL using dataset_train\n",
    "    objective = gpx.objectives.ConjugateMLL(negative=True)\n",
    "    # Optimise to minimise the MLL\n",
    "    opt_posterior, history = gpx.fit_scipy(\n",
    "        model=posterior,\n",
    "        objective=objective,\n",
    "        train_data=dataset,\n",
    "    )\n",
    "    return opt_posterior\n",
    "\n",
    "\n",
    "opt_velocity_posterior = optimise_mll(velocity_posterior, dataset_train)"
   ]
  },
  {
   "cell_type": "markdown",
   "id": "43d476a7",
   "metadata": {
    "lines_to_next_cell": 2
   },
   "source": [
    "### Comparison\n",
    "We next obtain the latent distribution of the GP of $g$ at $\\mathbf{x}_{0,i}$, then extract its mean and standard at the test locations, $\\mathbf{F}_{\\text{latent}}(\\mathbf{x}_{0,i})$, as well as the standard deviation (we will use it at the very end)."
   ]
  },
  {
   "cell_type": "code",
   "execution_count": null,
   "id": "978aa75a",
   "metadata": {
    "lines_to_next_cell": 2
   },
   "outputs": [],
   "source": [
    "def latent_distribution(opt_posterior, pos_3d, dataset_train):\n",
    "    latent = opt_posterior.predict(pos_3d, train_data=dataset_train)\n",
    "    latent_mean = latent.mean()\n",
    "    latent_std = latent.stddev()\n",
    "    return latent_mean, latent_std\n",
    "\n",
    "\n",
    "# extract latent mean and std of g, redistribute into vectors to model F\n",
    "velocity_mean, velocity_std = latent_distribution(\n",
    "    opt_velocity_posterior, dataset_ground_truth.X, dataset_train\n",
    ")\n",
    "\n",
    "dataset_latent_velocity = dataset_3d(pos_test, velocity_mean)"
   ]
  },
  {
   "cell_type": "markdown",
   "id": "9e0243fd",
   "metadata": {
    "lines_to_next_cell": 2
   },
   "source": [
    "We now replot the ground truth (testing data) $D_0$, the predicted latent vector field $\\mathbf{F}_{\\text{latent}}(\\mathbf{x_i})$, and a heatmap of the residuals at each location $\\mathbf{R}(\\mathbf{x}_{0,i}) = \\mathbf{y}_{0,i} - \\mathbf{F}_{\\text{latent}}(\\mathbf{x}_{0,i}) $, as well as $\\left|\\left|\\mathbf{R}(\\mathbf{x}_{0,i})\\right|\\right|$."
   ]
  },
  {
   "cell_type": "code",
   "execution_count": null,
   "id": "c482723e",
   "metadata": {
    "lines_to_next_cell": 2
   },
   "outputs": [],
   "source": [
    "# Residuals between ground truth and estimate\n",
    "\n",
    "\n",
    "def plot_vector_field(ax, dataset, **kwargs):\n",
    "    ax.quiver(\n",
    "        dataset.X[::2][:, 0],\n",
    "        dataset.X[::2][:, 1],\n",
    "        dataset.y[::2],\n",
    "        dataset.y[1::2],\n",
    "        **kwargs,\n",
    "    )\n",
    "\n",
    "\n",
    "def prepare_ax(ax, X, Y, title, **kwargs):\n",
    "    ax.set(\n",
    "        xlim=[X.min() - 0.1, X.max() + 0.1],\n",
    "        ylim=[Y.min() + 0.1, Y.max() + 0.1],\n",
    "        aspect=\"equal\",\n",
    "        title=title,\n",
    "        ylabel=\"latitude\",\n",
    "        **kwargs,\n",
    "    )\n",
    "\n",
    "\n",
    "def residuals(dataset_latent, dataset_ground_truth):\n",
    "    return jnp.sqrt(\n",
    "        (dataset_latent.y[::2] - dataset_ground_truth.y[::2]) ** 2\n",
    "        + (dataset_latent.y[1::2] - dataset_ground_truth.y[1::2]) ** 2\n",
    "    )\n",
    "\n",
    "\n",
    "def plot_fields(\n",
    "    dataset_ground_truth, dataset_trajectory, dataset_latent, shape=shape, scale=10\n",
    "):\n",
    "    X = dataset_ground_truth.X[:, 0][::2]\n",
    "    Y = dataset_ground_truth.X[:, 1][::2]\n",
    "    # make figure\n",
    "    fig, ax = plt.subplots(1, 3, figsize=(12.0, 3.0), sharey=True)\n",
    "\n",
    "    # ground truth\n",
    "    plot_vector_field(\n",
    "        ax[0],\n",
    "        dataset_ground_truth,\n",
    "        color=colors[0],\n",
    "        label=\"Ocean Current\",\n",
    "        angles=\"xy\",\n",
    "        scale=scale,\n",
    "    )\n",
    "    plot_vector_field(\n",
    "        ax[0],\n",
    "        dataset_trajectory,\n",
    "        color=colors[1],\n",
    "        label=\"Drifter\",\n",
    "        angles=\"xy\",\n",
    "        scale=scale,\n",
    "    )\n",
    "    prepare_ax(ax[0], X, Y, \"Ground Truth\", xlabel=\"Longitude\")\n",
    "\n",
    "    # Latent estimate of vector field F\n",
    "    plot_vector_field(ax[1], dataset_latent, color=colors[0], angles=\"xy\", scale=scale)\n",
    "    plot_vector_field(\n",
    "        ax[1], dataset_trajectory, color=colors[1], angles=\"xy\", scale=scale\n",
    "    )\n",
    "    prepare_ax(ax[1], X, Y, \"GP Estimate\", xlabel=\"Longitude\")\n",
    "\n",
    "    # residuals\n",
    "    residuals_vel = jnp.flip(\n",
    "        residuals(dataset_latent, dataset_ground_truth).reshape(shape), axis=0\n",
    "    )\n",
    "    im = ax[2].imshow(\n",
    "        residuals_vel,\n",
    "        extent=[X.min(), X.max(), Y.min(), Y.max()],\n",
    "        cmap=\"jet\",\n",
    "        vmin=0,\n",
    "        vmax=1.0,\n",
    "        interpolation=\"spline36\",\n",
    "    )\n",
    "    plot_vector_field(\n",
    "        ax[2], dataset_trajectory, color=colors[1], angles=\"xy\", scale=scale\n",
    "    )\n",
    "    prepare_ax(ax[2], X, Y, \"Residuals\", xlabel=\"Longitude\")\n",
    "    fig.colorbar(im, fraction=0.027, pad=0.04, orientation=\"vertical\")\n",
    "\n",
    "    fig.legend(\n",
    "        framealpha=0.0,\n",
    "        ncols=2,\n",
    "        fontsize=\"medium\",\n",
    "        bbox_to_anchor=(0.5, -0.03),\n",
    "        loc=\"lower center\",\n",
    "    )\n",
    "    plt.show()\n",
    "\n",
    "\n",
    "plot_fields(dataset_ground_truth, dataset_train, dataset_latent_velocity)"
   ]
  },
  {
   "cell_type": "markdown",
   "id": "20a8e31a",
   "metadata": {
    "lines_to_next_cell": 2
   },
   "source": [
    "From the latent estimate we can see the velocity GP struggles to reconstruct features of the ground truth. This is because our construction of the kernel placed an independent prior on each physical dimension, which cannot be assumed. Therefore, we need a different approach that can implicitly incorporate this dependence at a fundamental level. To achieve this we will require a *Helmholtz Decomposition*."
   ]
  },
  {
   "cell_type": "markdown",
   "id": "038478fd",
   "metadata": {
    "lines_to_next_cell": 0
   },
   "source": [
    "## Helmholtz decomposition\n",
    "In 2 dimensions, a twice continuously differentiable and compactly supported vector field $\\mathbf{F}: \\mathbb{R}^2 \\rightarrow \\mathbb{R}^2$ can be expressed as the sum of the gradient of a scalar potential $\\Phi: \\mathbb{R}^2 \\rightarrow \\mathbb{R}$, called the potential function, and the vorticity operator of another scalar potential $\\Psi: \\mathbb{R}^2 \\rightarrow \\mathbb{R}$, called the stream function ([Berlinghieri et al. (2023)](https://arxiv.org/pdf/2302.10364.pdf)) such that\n",
    "$$\n",
    "\\mathbf{F}=\\operatorname{grad} \\Phi+\\operatorname{rot} \\Psi,\n",
    "$$\n",
    "where\n",
    "$$\n",
    "\\operatorname{grad} \\Phi:=\\left[\\begin{array}{l}\n",
    "\\partial \\Phi / \\partial x^{(0)} \\\\\n",
    "\\partial \\Phi / \\partial x^{(1)}\n",
    "\\end{array}\\right] \\text { and } \\operatorname{rot} \\Psi:=\\left[\\begin{array}{c}\n",
    "\\partial \\Psi / \\partial x^{(1)} \\\\\n",
    "-\\partial \\Psi / \\partial x^{(0)}\n",
    "\\end{array}\\right].\n",
    "$$\n",
    "\n",
    "This is reminiscent of a 3 dimensional [Helmholtz decomposition](https://en.wikipedia.org/wiki/Helmholtz_decomposition).\n",
    "\n",
    "The 2 dimensional decomposition motivates a different approach: placing priors on $\\Psi$ and $\\Phi$, allowing us to make assumptions directly about fundamental properties of $\\mathbf{F}$. If we choose independent GP priors such that $\\Phi \\sim \\mathcal{G P}\\left(0, k_{\\Phi}\\right)$ and $\\Psi \\sim \\mathcal{G P}\\left(0, k_{\\Psi}\\right)$, then $\\mathbf{F} \\sim \\mathcal{G P} \\left(0, k_\\text{Helm}\\right)$ (since acting linear operations on a GPs give GPs).\n",
    "\n",
    "For $\\mathbf{X}, \\mathbf{X}^{\\prime} \\in \\mathbb{R}^2 \\times \\left\\{0,1\\right\\}$ and $z, z^\\prime \\in \\{0,1\\}$,\n",
    "\n",
    "$$\n",
    "\\boxed{ k_{\\mathrm{Helm}}\\left(\\mathbf{x}, \\mathbf{x}^{\\prime}\\right)_{z,z^\\prime} =  \\frac{\\partial^2 k_{\\Phi}\\left(\\mathbf{x}, \\mathbf{x}^{\\prime}\\right)}{\\partial x^{(z)} \\partial\\left(x^{\\prime}\\right)^{(z^\\prime)}}+(-1)^{z+z^\\prime} \\frac{\\partial^2 k_{\\Psi}\\left(\\mathbf{x}, \\mathbf{x}^{\\prime}\\right)}{\\partial x^{(1-z)} \\partial\\left(x^{\\prime}\\right)^{(1-z^\\prime)}}}.\n",
    "$$\n",
    "\n",
    "where $x^{(z)}$ and $(x^\\prime)^{(z^\\prime)}$ are the $z$ and $z^\\prime$ components of $\\mathbf{X}$ and ${\\mathbf{X}}^{\\prime}$ respectively.\n",
    "\n",
    "We compute the second derivatives using `jax.hessian`. In the following implementation, for a kernel $k(\\mathbf{x}, \\mathbf{x}^{\\prime})$, this computes the Hessian matrix with respect to the components of $\\mathbf{x}$\n",
    "\n",
    "$$\n",
    "\\frac{\\partial^2 k\\left(\\mathbf{x}, \\mathbf{x}^{\\prime}\\right)}{\\partial x^{(z)} \\partial x^{(z^\\prime)}}.\n",
    "$$\n",
    "\n",
    "Note that we have operated $\\dfrac{\\partial}{\\partial x^{(z)}}$, *not* $\\dfrac{\\partial}{\\partial \\left(x^\\prime \\right)^{(z)}}$, as the boxed equation suggests. This is not an issue if we choose stationary kernels $k(\\mathbf{x}, \\mathbf{x}^{\\prime}) = k(\\mathbf{x} - \\mathbf{x}^{\\prime})$ , as the partial derivatives with respect to the components have the following exchange symmetry:\n",
    "\n",
    "$$\n",
    "\\frac{\\partial}{\\partial x^{(z)}} = - \\frac{\\partial}{\\partial \\left( x^\\prime \\right)^{(z)}},\n",
    "$$\n",
    "\n",
    "for either $z$."
   ]
  },
  {
   "cell_type": "code",
   "execution_count": null,
   "id": "850668dc",
   "metadata": {},
   "outputs": [],
   "source": [
    "@dataclass\n",
    "class HelmholtzKernel(gpx.kernels.AbstractKernel):\n",
    "    # initialise Phi and Psi kernels as any stationary kernel in gpJax\n",
    "    potential_kernel: gpx.kernels.AbstractKernel = gpx.kernels.RBF(active_dims=[0, 1])\n",
    "    stream_kernel: gpx.kernels.AbstractKernel = gpx.kernels.RBF(active_dims=[0, 1])\n",
    "\n",
    "    def __call__(\n",
    "        self, X: Float[Array, \"1 D\"], Xp: Float[Array, \"1 D\"]\n",
    "    ) -> Float[Array, \"1\"]:\n",
    "        # obtain indices for k_helm, implement in the correct sign between the derivatives\n",
    "        z = jnp.array(X[2], dtype=int)\n",
    "        zp = jnp.array(Xp[2], dtype=int)\n",
    "        sign = (-1) ** (z + zp)\n",
    "\n",
    "        # convert to array to correctly index, -ve sign due to exchange symmetry (only true for stationary kernels)\n",
    "        potential_dvtve = -jnp.array(\n",
    "            hessian(self.potential_kernel)(X, Xp), dtype=jnp.float64\n",
    "        )[z][zp]\n",
    "        stream_dvtve = -jnp.array(\n",
    "            hessian(self.stream_kernel)(X, Xp), dtype=jnp.float64\n",
    "        )[1 - z][1 - zp]\n",
    "\n",
    "        return potential_dvtve + sign * stream_dvtve"
   ]
  },
  {
   "cell_type": "markdown",
   "id": "4c2a3f76",
   "metadata": {},
   "source": [
    "### GPJax implementation\n",
    "We repeat the same steps as with the velocity GP model, replacing `VelocityKernel` with `HelmholtzKernel`."
   ]
  },
  {
   "cell_type": "code",
   "execution_count": null,
   "id": "09810a29",
   "metadata": {
    "lines_to_next_cell": 2
   },
   "outputs": [],
   "source": [
    "# Redefine Gaussian process with Helmholtz kernel\n",
    "kernel = HelmholtzKernel()\n",
    "helmholtz_posterior = initialise_gp(kernel, mean, dataset_train)\n",
    "# Optimise hyperparameters using BFGS\n",
    "opt_helmholtz_posterior = optimise_mll(helmholtz_posterior, dataset_train)"
   ]
  },
  {
   "cell_type": "markdown",
   "id": "ec09fdc9",
   "metadata": {},
   "source": [
    "### Comparison\n",
    "We again plot the ground truth (testing data) $D_0$, the predicted latent vector field $\\mathbf{F}_{\\text{latent}}(\\mathbf{x}_{0,i})$, and a heatmap of the residuals at each location $R(\\mathbf{x}_{0,i}) = \\mathbf{y}_{0,i} - \\mathbf{F}_{\\text{latent}}(\\mathbf{x}_{0,i})$ and $\\left|\\left|R(\\mathbf{x}_{0,i})  \\right|\\right|$."
   ]
  },
  {
   "cell_type": "code",
   "execution_count": null,
   "id": "de91b97b",
   "metadata": {},
   "outputs": [],
   "source": [
    "# obtain latent distribution, extract x and y values over g\n",
    "helmholtz_mean, helmholtz_std = latent_distribution(\n",
    "    opt_helmholtz_posterior, dataset_ground_truth.X, dataset_train\n",
    ")\n",
    "dataset_latent_helmholtz = dataset_3d(pos_test, helmholtz_mean)\n",
    "\n",
    "plot_fields(dataset_ground_truth, dataset_train, dataset_latent_helmholtz)"
   ]
  },
  {
   "cell_type": "markdown",
   "id": "9d5625bf",
   "metadata": {
    "lines_to_next_cell": 2
   },
   "source": [
    "Visually, the Helmholtz model performs better than the velocity model, preserving the local structure of the $\\mathbf{F}$. Since we placed priors on $\\Phi$ and $\\Psi$, the construction of $\\mathbf{F}$ allows for correlations between the dimensions (non-zero off-diagonal elements in the Gram matrix populated by $k_\\text{Helm}\\left(\\mathbf{X},\\mathbf{X}^{\\prime}\\right)$ )."
   ]
  },
  {
   "cell_type": "markdown",
   "id": "17d123d9",
   "metadata": {
    "lines_to_next_cell": 2
   },
   "source": [
    "## Negative log predictive densities\n",
    "Lastly, we directly compare the velocity and Helmholtz models by computing the [negative log predictive densities](https://en.wikipedia.org/wiki/Negative_log_predictive_density) for each model. This is a quantitative metric that measures the probability of the ground truth given the data.\n",
    "\n",
    "$$\n",
    "\\mathrm{NLPD}=-\\sum_{i=1}^{2N} \\log \\left(  p\\left(\\mathcal{Y}_i = Y_{0,i} \\mid \\mathbf{X}_{i}\\right) \\right),\n",
    "$$\n",
    "\n",
    "where each $p\\left(\\mathcal{Y}_i \\mid \\mathbf{X}_i \\right)$ is the marginal Gaussian distribution over $\\mathcal{Y}_i$ at each test location, and $Y_{i,0}$ is the $i$-th component of the (massaged) test data that we reserved at the beginning of the notebook in $D_0$. A smaller value is better, since the deviation of the ground truth and the model are small in this case."
   ]
  },
  {
   "cell_type": "code",
   "execution_count": null,
   "id": "e57b3295",
   "metadata": {
    "lines_to_next_cell": 0
   },
   "outputs": [],
   "source": [
    "# ensure testing data alternates between x0 and x1 components\n",
    "def nlpd(mean, std, vel_test):\n",
    "    vel_query = jnp.column_stack((vel_test[0], vel_test[1])).flatten()\n",
    "    normal = tfp.substrates.jax.distributions.Normal(loc=mean, scale=std)\n",
    "    return -jnp.sum(normal.log_prob(vel_query))\n",
    "\n",
    "\n",
    "# compute nlpd for velocity and helmholtz\n",
    "nlpd_vel = nlpd(velocity_mean, velocity_std, vel_test)\n",
    "nlpd_helm = nlpd(helmholtz_mean, helmholtz_std, vel_test)\n",
    "\n",
    "print(\"NLPD for Velocity: %.2f \\nNLPD for Helmholtz: %.2f\" % (nlpd_vel, nlpd_helm))"
   ]
  },
  {
   "cell_type": "markdown",
   "id": "6347271f",
   "metadata": {},
   "source": [
    "The Helmholtz model outperforms the velocity model, as indicated by the lower NLPD score."
   ]
  },
  {
   "cell_type": "markdown",
   "id": "c83e4644",
   "metadata": {
    "lines_to_next_cell": 0
   },
   "source": [
    "<span id=\"fn1\"></span>\n",
    "## Footnote\n",
    "Kernels for vector-valued functions have been studied in the literature, see [Alvarez et al. (2012)](https://doi.org/10.48550/arXiv.1106.6251)\n",
    "## System configuration"
   ]
  },
  {
   "cell_type": "code",
   "execution_count": null,
   "id": "76dda6fa",
   "metadata": {},
   "outputs": [],
   "source": [
    "%reload_ext watermark\n",
    "%watermark -n -u -v -iv -w -a 'Ivan Shalashilin'"
   ]
  }
 ],
 "metadata": {
  "jupytext": {
   "cell_metadata_filter": "-all",
   "main_language": "python",
   "notebook_metadata_filter": "-all"
  },
  "kernelspec": {
   "display_name": "gpjax",
   "language": "python",
   "name": "python3"
  },
  "language_info": {
   "name": "python",
   "version": "3.10.14"
  }
 },
 "nbformat": 4,
 "nbformat_minor": 5
}
